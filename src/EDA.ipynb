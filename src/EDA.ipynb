{
 "cells": [
  {
   "cell_type": "code",
   "execution_count": 1,
   "metadata": {},
   "outputs": [],
   "source": [
    "%matplotlib inline\n",
    "import pandas as pd\n",
    "import numpy as np\n",
    "import json\n",
    "import os \n",
    "import arrow\n",
    "\n",
    "from matplotlib import pylab as plt\n",
    "import seaborn as sns\n",
    "\n",
    "from IPython.display import display\n",
    "pd.set_option('display.max_columns', 500)\n",
    "pd.set_option('display.max_colwidth', 300)"
   ]
  },
  {
   "cell_type": "markdown",
   "metadata": {},
   "source": [
    "## Datasets:\n",
    "- IMDB spoiler dataset __json__\n",
    "- Reddit data: posts, comments __csv__ ohter info: author, date, tect\n",
    "- Movies info data (OMDB API __csv__)"
   ]
  },
  {
   "cell_type": "markdown",
   "metadata": {},
   "source": [
    "### IMDB spoiler dataset"
   ]
  },
  {
   "cell_type": "code",
   "execution_count": 2,
   "metadata": {},
   "outputs": [],
   "source": [
    "datapath = '../data'\n",
    "fpath = lambda s: os.path.join(datapath, s)\n",
    "\n",
    "data = []\n",
    "detail = []\n",
    "for r in open(fpath('IMDB_reviews.json'), 'r'):\n",
    "    data.append(json.loads(r))\n",
    "for r in open(fpath('IMDB_movie_details.json'), 'r'):\n",
    "    detail.append(json.loads(r))\n",
    "data = pd.DataFrame(data)\n",
    "detail = pd.DataFrame(detail)"
   ]
  },
  {
   "cell_type": "code",
   "execution_count": 3,
   "metadata": {},
   "outputs": [
    {
     "name": "stdout",
     "output_type": "stream",
     "text": [
      "(1572, 7)\n"
     ]
    },
    {
     "data": {
      "text/html": [
       "<div>\n",
       "<style scoped>\n",
       "    .dataframe tbody tr th:only-of-type {\n",
       "        vertical-align: middle;\n",
       "    }\n",
       "\n",
       "    .dataframe tbody tr th {\n",
       "        vertical-align: top;\n",
       "    }\n",
       "\n",
       "    .dataframe thead th {\n",
       "        text-align: right;\n",
       "    }\n",
       "</style>\n",
       "<table border=\"1\" class=\"dataframe\">\n",
       "  <thead>\n",
       "    <tr style=\"text-align: right;\">\n",
       "      <th></th>\n",
       "      <th>duration</th>\n",
       "      <th>genre</th>\n",
       "      <th>movie_id</th>\n",
       "      <th>plot_summary</th>\n",
       "      <th>plot_synopsis</th>\n",
       "      <th>rating</th>\n",
       "      <th>release_date</th>\n",
       "    </tr>\n",
       "  </thead>\n",
       "  <tbody>\n",
       "    <tr>\n",
       "      <th>0</th>\n",
       "      <td>1h 57min</td>\n",
       "      <td>[Action, Thriller]</td>\n",
       "      <td>tt0105112</td>\n",
       "      <td>Former CIA analyst, Jack Ryan is in England with his family on vacation when he suddenly witnesses an explosion outside Buckingham Palace. It is revealed that some people are trying to abduct a member of the Royal Family but Jack intervenes, killing one of them and capturing the other, and stops...</td>\n",
       "      <td>Jack Ryan (Ford) is on a \"working vacation\" in London with his family. He has retired from the CIA and is a Professor at the US Naval Academy. He is seen delivering a lecture at the Royal Naval Academy in London.Meanwhile, Ryan's wife Cathy and daughter Sally are sightseeing near Buckingham Pala...</td>\n",
       "      <td>6.9</td>\n",
       "      <td>1992-06-05</td>\n",
       "    </tr>\n",
       "    <tr>\n",
       "      <th>1</th>\n",
       "      <td>1h 45min</td>\n",
       "      <td>[Comedy]</td>\n",
       "      <td>tt1204975</td>\n",
       "      <td>Billy (Michael Douglas), Paddy (Robert De Niro), Archie (Morgan Freeman) and Sam (Kevin Kline) have been best friends since childhood. So when Billy, the group's sworn bachelor, finally proposes to his thirty-something (of course) girlfriend, the four head to Las Vegas with a plan to stop acting...</td>\n",
       "      <td>Four boys around the age of 10 are friends in Brooklyn during the '50s. They have a nickname, the Flatbush Four, and also pal around with a girl. One day they get into a scuffle at a store with a young thug, and steal a bottle of scotch as they run away.58 years later: Sam has retired with his w...</td>\n",
       "      <td>6.6</td>\n",
       "      <td>2013-11-01</td>\n",
       "    </tr>\n",
       "    <tr>\n",
       "      <th>2</th>\n",
       "      <td>1h 37min</td>\n",
       "      <td>[Comedy, Romance]</td>\n",
       "      <td>tt0243655</td>\n",
       "      <td>The setting is Camp Firewood, the year 1981. It's the last day before everyone goes back to the real world, but there's still a summer's worth of unfinished business to resolve. At the center of the action is camp director Beth, who struggles to keep order while she falls in love with the local ...</td>\n",
       "      <td></td>\n",
       "      <td>6.7</td>\n",
       "      <td>2002-04-11</td>\n",
       "    </tr>\n",
       "    <tr>\n",
       "      <th>3</th>\n",
       "      <td>2h 6min</td>\n",
       "      <td>[Adventure, Drama, Western]</td>\n",
       "      <td>tt0040897</td>\n",
       "      <td>Fred C. Dobbs and Bob Curtin, both down on their luck in Tampico, Mexico in 1925, meet up with a grizzled prospector named Howard and decide to join with him in search of gold in the wilds of central Mexico. Through enormous difficulties, they eventually succeed in finding gold, but bandits, the...</td>\n",
       "      <td>Fred Dobbs (Humphrey Bogart) and Bob Curtin (Tim Holt) are down on their luck in Mexico and are both victims of a swindle in which workers are hired but not paid by a notoriously corrupt local businessman (Barton MacLane). Intrigued in the local pub by the stories of Howard (Walter Huston), an o...</td>\n",
       "      <td>8.3</td>\n",
       "      <td>1948-01-24</td>\n",
       "    </tr>\n",
       "    <tr>\n",
       "      <th>4</th>\n",
       "      <td>1h 43min</td>\n",
       "      <td>[Comedy, Drama, Romance]</td>\n",
       "      <td>tt0126886</td>\n",
       "      <td>Tracy Flick is running unopposed for this year's high school student election. But school civics teacher Jim McAllister has a different plan. Partly to establish a more democratic election, and partly to satisfy some deep personal anger toward Tracy, Jim talks popular varsity football player Pau...</td>\n",
       "      <td>Jim McAllister (Matthew Broderick) is a much-admired high school history teacher living in the suburbs of Omaha, Nebraska, who is actively involved in many after-school activities, one of which is overseeing the student government election process.Tracy Flick (Reese Witherspoon) is an overachiev...</td>\n",
       "      <td>7.3</td>\n",
       "      <td>1999-05-07</td>\n",
       "    </tr>\n",
       "  </tbody>\n",
       "</table>\n",
       "</div>"
      ],
      "text/plain": [
       "   duration                        genre   movie_id  \\\n",
       "0  1h 57min           [Action, Thriller]  tt0105112   \n",
       "1  1h 45min                     [Comedy]  tt1204975   \n",
       "2  1h 37min            [Comedy, Romance]  tt0243655   \n",
       "3   2h 6min  [Adventure, Drama, Western]  tt0040897   \n",
       "4  1h 43min     [Comedy, Drama, Romance]  tt0126886   \n",
       "\n",
       "                                                                                                                                                                                                                                                                                                  plot_summary  \\\n",
       "0  Former CIA analyst, Jack Ryan is in England with his family on vacation when he suddenly witnesses an explosion outside Buckingham Palace. It is revealed that some people are trying to abduct a member of the Royal Family but Jack intervenes, killing one of them and capturing the other, and stops...   \n",
       "1  Billy (Michael Douglas), Paddy (Robert De Niro), Archie (Morgan Freeman) and Sam (Kevin Kline) have been best friends since childhood. So when Billy, the group's sworn bachelor, finally proposes to his thirty-something (of course) girlfriend, the four head to Las Vegas with a plan to stop acting...   \n",
       "2  The setting is Camp Firewood, the year 1981. It's the last day before everyone goes back to the real world, but there's still a summer's worth of unfinished business to resolve. At the center of the action is camp director Beth, who struggles to keep order while she falls in love with the local ...   \n",
       "3  Fred C. Dobbs and Bob Curtin, both down on their luck in Tampico, Mexico in 1925, meet up with a grizzled prospector named Howard and decide to join with him in search of gold in the wilds of central Mexico. Through enormous difficulties, they eventually succeed in finding gold, but bandits, the...   \n",
       "4  Tracy Flick is running unopposed for this year's high school student election. But school civics teacher Jim McAllister has a different plan. Partly to establish a more democratic election, and partly to satisfy some deep personal anger toward Tracy, Jim talks popular varsity football player Pau...   \n",
       "\n",
       "                                                                                                                                                                                                                                                                                                 plot_synopsis  \\\n",
       "0  Jack Ryan (Ford) is on a \"working vacation\" in London with his family. He has retired from the CIA and is a Professor at the US Naval Academy. He is seen delivering a lecture at the Royal Naval Academy in London.Meanwhile, Ryan's wife Cathy and daughter Sally are sightseeing near Buckingham Pala...   \n",
       "1  Four boys around the age of 10 are friends in Brooklyn during the '50s. They have a nickname, the Flatbush Four, and also pal around with a girl. One day they get into a scuffle at a store with a young thug, and steal a bottle of scotch as they run away.58 years later: Sam has retired with his w...   \n",
       "2                                                                                                                                                                                                                                                                                                                \n",
       "3  Fred Dobbs (Humphrey Bogart) and Bob Curtin (Tim Holt) are down on their luck in Mexico and are both victims of a swindle in which workers are hired but not paid by a notoriously corrupt local businessman (Barton MacLane). Intrigued in the local pub by the stories of Howard (Walter Huston), an o...   \n",
       "4  Jim McAllister (Matthew Broderick) is a much-admired high school history teacher living in the suburbs of Omaha, Nebraska, who is actively involved in many after-school activities, one of which is overseeing the student government election process.Tracy Flick (Reese Witherspoon) is an overachiev...   \n",
       "\n",
       "  rating release_date  \n",
       "0    6.9   1992-06-05  \n",
       "1    6.6   2013-11-01  \n",
       "2    6.7   2002-04-11  \n",
       "3    8.3   1948-01-24  \n",
       "4    7.3   1999-05-07  "
      ]
     },
     "metadata": {},
     "output_type": "display_data"
    }
   ],
   "source": [
    "print(detail.shape)\n",
    "display(detail.head())\n",
    "detail.to_csv(fpath('movies_details.csv'), index=False)"
   ]
  },
  {
   "cell_type": "code",
   "execution_count": 4,
   "metadata": {},
   "outputs": [],
   "source": [
    "data.review_date = data.review_date.apply(lambda t: arrow.get(t, 'D MMMM YYYY').year)"
   ]
  },
  {
   "cell_type": "code",
   "execution_count": 5,
   "metadata": {},
   "outputs": [
    {
     "name": "stdout",
     "output_type": "stream",
     "text": [
      "(573913, 7)\n"
     ]
    },
    {
     "data": {
      "text/html": [
       "<div>\n",
       "<style scoped>\n",
       "    .dataframe tbody tr th:only-of-type {\n",
       "        vertical-align: middle;\n",
       "    }\n",
       "\n",
       "    .dataframe tbody tr th {\n",
       "        vertical-align: top;\n",
       "    }\n",
       "\n",
       "    .dataframe thead th {\n",
       "        text-align: right;\n",
       "    }\n",
       "</style>\n",
       "<table border=\"1\" class=\"dataframe\">\n",
       "  <thead>\n",
       "    <tr style=\"text-align: right;\">\n",
       "      <th></th>\n",
       "      <th>is_spoiler</th>\n",
       "      <th>movie_id</th>\n",
       "      <th>rating</th>\n",
       "      <th>review_date</th>\n",
       "      <th>review_summary</th>\n",
       "      <th>review_text</th>\n",
       "      <th>user_id</th>\n",
       "    </tr>\n",
       "  </thead>\n",
       "  <tbody>\n",
       "    <tr>\n",
       "      <th>0</th>\n",
       "      <td>True</td>\n",
       "      <td>tt0111161</td>\n",
       "      <td>10</td>\n",
       "      <td>2006</td>\n",
       "      <td>A classic piece of unforgettable film-making.</td>\n",
       "      <td>In its Oscar year, Shawshank Redemption (written and directed by Frank Darabont, after the novella Rita Hayworth and the Shawshank Redemption, by Stephen King) was nominated for seven Academy Awards, and walked away with zero. Best Picture went to Forrest Gump, while Shawshank and Pulp Fiction w...</td>\n",
       "      <td>ur1898687</td>\n",
       "    </tr>\n",
       "    <tr>\n",
       "      <th>1</th>\n",
       "      <td>True</td>\n",
       "      <td>tt0111161</td>\n",
       "      <td>10</td>\n",
       "      <td>2000</td>\n",
       "      <td>Simply amazing. The best film of the 90's.</td>\n",
       "      <td>The Shawshank Redemption is without a doubt one of the most brilliant movies I have ever seen. Similar to The Green Mile in many respects (and better than it in almost all of them), these two movies have shown us that Stephen King is a master not only of horror but also of prose that shakes the ...</td>\n",
       "      <td>ur0842118</td>\n",
       "    </tr>\n",
       "  </tbody>\n",
       "</table>\n",
       "</div>"
      ],
      "text/plain": [
       "   is_spoiler   movie_id rating  review_date  \\\n",
       "0        True  tt0111161     10         2006   \n",
       "1        True  tt0111161     10         2000   \n",
       "\n",
       "                                  review_summary  \\\n",
       "0  A classic piece of unforgettable film-making.   \n",
       "1     Simply amazing. The best film of the 90's.   \n",
       "\n",
       "                                                                                                                                                                                                                                                                                                   review_text  \\\n",
       "0  In its Oscar year, Shawshank Redemption (written and directed by Frank Darabont, after the novella Rita Hayworth and the Shawshank Redemption, by Stephen King) was nominated for seven Academy Awards, and walked away with zero. Best Picture went to Forrest Gump, while Shawshank and Pulp Fiction w...   \n",
       "1  The Shawshank Redemption is without a doubt one of the most brilliant movies I have ever seen. Similar to The Green Mile in many respects (and better than it in almost all of them), these two movies have shown us that Stephen King is a master not only of horror but also of prose that shakes the ...   \n",
       "\n",
       "     user_id  \n",
       "0  ur1898687  \n",
       "1  ur0842118  "
      ]
     },
     "metadata": {},
     "output_type": "display_data"
    }
   ],
   "source": [
    "print(data.shape)\n",
    "display(data.head(2))"
   ]
  },
  {
   "cell_type": "code",
   "execution_count": 6,
   "metadata": {},
   "outputs": [],
   "source": [
    "data['review_length'] = data.review_text.apply(len)"
   ]
  },
  {
   "cell_type": "code",
   "execution_count": 7,
   "metadata": {},
   "outputs": [
    {
     "name": "stdout",
     "output_type": "stream",
     "text": [
      "% of spoiler: 0.26\n"
     ]
    }
   ],
   "source": [
    "print(f'% of spoiler: {sum(data.is_spoiler==True)/len(data):.2f}')"
   ]
  },
  {
   "cell_type": "code",
   "execution_count": 8,
   "metadata": {},
   "outputs": [
    {
     "name": "stdout",
     "output_type": "stream",
     "text": [
      "review_length vs. is spoiler\n"
     ]
    },
    {
     "data": {
      "text/plain": [
       "<matplotlib.axes._subplots.AxesSubplot at 0x13d3d7e48>"
      ]
     },
     "execution_count": 8,
     "metadata": {},
     "output_type": "execute_result"
    },
    {
     "data": {
      "image/png": "[encoded data removed]",
      "text/plain": [
       "<Figure size 432x288 with 1 Axes>"
      ]
     },
     "metadata": {
      "needs_background": "light"
     },
     "output_type": "display_data"
    }
   ],
   "source": [
    "print('review_length vs. is spoiler')\n",
    "fig, ax = plt.subplots(1, 1, figsize=(6, 4))\n",
    "sns.boxplot(x='is_spoiler', y='review_length', data=data)"
   ]
  },
  {
   "cell_type": "markdown",
   "metadata": {},
   "source": [
    "### subset 2010 - 2018"
   ]
  },
  {
   "cell_type": "code",
   "execution_count": 9,
   "metadata": {},
   "outputs": [],
   "source": [
    "data = data[data.review_date >= 2010]\n",
    "data = data.drop_duplicates()\n",
    "data = data.dropna()\n",
    "data.to_csv(fpath('movies1018.scv'), index=False)"
   ]
  },
  {
   "cell_type": "markdown",
   "metadata": {},
   "source": [
    "### Reddite /r/movies \n",
    "- posts -- scrapped by year 2018 - 2019\n",
    "- comments -- scapped by post id"
   ]
  },
  {
   "cell_type": "code",
   "execution_count": 10,
   "metadata": {},
   "outputs": [],
   "source": [
    "p18 = pd.read_csv(fpath('rmovies2018.csv'), low_memory=False)\n",
    "p19 = pd.read_csv(fpath('rmovies2019.csv'), low_memory=False)"
   ]
  },
  {
   "cell_type": "code",
   "execution_count": 11,
   "metadata": {},
   "outputs": [
    {
     "data": {
      "text/plain": [
       "(24002, 78)"
      ]
     },
     "execution_count": 11,
     "metadata": {},
     "output_type": "execute_result"
    }
   ],
   "source": [
    "p19.shape"
   ]
  },
  {
   "cell_type": "code",
   "execution_count": 12,
   "metadata": {},
   "outputs": [],
   "source": [
    "p18 = p18.drop_duplicates()\n",
    "p18 = p18.dropna(how='all')\n",
    "\n",
    "p19 = p19.drop_duplicates()\n",
    "p19 = p19.dropna(how='all')"
   ]
  },
  {
   "cell_type": "code",
   "execution_count": 13,
   "metadata": {},
   "outputs": [
    {
     "name": "stdout",
     "output_type": "stream",
     "text": [
      "(46000, 93) (24002, 78)\n",
      "% of missing in selftext - 2018: 70.92%\n",
      "% of missing in selftext - 2019: 35.04%\n"
     ]
    }
   ],
   "source": [
    "print(p18.shape, p19.shape)\n",
    "\n",
    "print( f'% of missing in selftext - 2018: {sum(p18.selftext.isna()) / len(p18) * 100:.2f}%')\n",
    "print( f'% of missing in selftext - 2019: {sum(p19.selftext.isna()) / len(p18) * 100:.2f}%')"
   ]
  },
  {
   "cell_type": "code",
   "execution_count": 14,
   "metadata": {},
   "outputs": [],
   "source": [
    "c18 = pd.read_csv(fpath('rmovies_2018_comments.csv'), low_memory=False)\n",
    "c19 = pd.read_csv(fpath('rmovies_2019_comments.csv'), low_memory=False)\n",
    "\n",
    "c18 = c18.drop_duplicates()\n",
    "c18 = c18.dropna(how='all')\n",
    "\n",
    "c19 = c19.drop_duplicates()\n",
    "c19 = c19.dropna(how='all')"
   ]
  },
  {
   "cell_type": "code",
   "execution_count": 15,
   "metadata": {},
   "outputs": [],
   "source": [
    "posts = pd.concat([p18, p19], axis=0, sort=True)\n",
    "comms = pd.concat([c18, c19], axis=0, sort=True)\n",
    "\n",
    "posts = posts[posts.title.apply(lambda s: type(s) != float)]\n",
    "comms = comms[comms.body.apply(lambda s: type(s) != float)]"
   ]
  },
  {
   "cell_type": "markdown",
   "metadata": {},
   "source": [
    "- note -- might set is_selftext to one hot variable for later use, not applicable in this model due to different feture \n",
    "- join posts title & seleftext to one varialbe, get the review_length"
   ]
  },
  {
   "cell_type": "code",
   "execution_count": 16,
   "metadata": {},
   "outputs": [],
   "source": [
    "def join_title_text(title, text):\n",
    "    if type(text) == float:\n",
    "        return title\n",
    "    if title[-1] not in string.punctuation:\n",
    "        title = title.strip() +  '.'\n",
    "    else:\n",
    "        pun = title[-1]\n",
    "        title = title.strip() + pun\n",
    "    return title + text"
   ]
  },
  {
   "cell_type": "code",
   "execution_count": 17,
   "metadata": {},
   "outputs": [],
   "source": [
    "# posts['raw_title'] = posts['title']\n",
    "# posts['title'] = posts.apply(lambda row: join_title_text(row.title, row.selftext) , axis=1)\n",
    "posts['review_length'] = posts.title.apply(len)\n",
    "comms['review_length'] = comms.body.apply(len)"
   ]
  },
  {
   "cell_type": "markdown",
   "metadata": {},
   "source": [
    "- plot num_comments & scores => get popular thread only"
   ]
  },
  {
   "cell_type": "code",
   "execution_count": 18,
   "metadata": {},
   "outputs": [
    {
     "data": {
      "text/plain": [
       "Text(0.5, 1.0, 'Distribution of review length -- all datasets')"
      ]
     },
     "execution_count": 18,
     "metadata": {},
     "output_type": "execute_result"
    },
    {
     "data": {
      "image/png": "[encoded data removed]",
      "text/plain": [
       "<Figure size 720x360 with 1 Axes>"
      ]
     },
     "metadata": {},
     "output_type": "display_data"
    }
   ],
   "source": [
    "sns.set(style='whitegrid', palette=\"deep\", font_scale=1.1, rc={\"figure.figsize\": [10, 5]})\n",
    "sns.distplot(\n",
    "    data['review_length'], norm_hist=False, kde=True, bins=20, hist_kws={\"alpha\": 0.8}, color='orange',\n",
    "    label = 'imdb',\n",
    ").set(xlabel='Review_Length', ylabel='Count');\n",
    "\n",
    "sns.distplot(\n",
    "    posts['review_length'], norm_hist=False, kde=True, bins=20, hist_kws={\"alpha\": 0.8}, color= 'blue', \n",
    "    label = 'r/posts',\n",
    ").set(xlabel='Review_Length', ylabel='Count');\n",
    "\n",
    "sns.distplot(\n",
    "    comms['review_length'], norm_hist=False, kde=True, bins=20, hist_kws={\"alpha\": 0.8}, color='green',\n",
    "    label='r/comms',\n",
    ").set(xlabel='Review_Length', ylabel='Count');\n",
    "\n",
    "plt.legend()\n",
    "plt.xlim(0, 5000)\n",
    "plt.title('Distribution of review length -- all datasets')"
   ]
  },
  {
   "cell_type": "code",
   "execution_count": 19,
   "metadata": {},
   "outputs": [],
   "source": [
    "posts.score = posts.score.fillna(0).astype(int)\n",
    "comms.score = comms.score.fillna(0).astype(int)\n",
    "posts.num_comments = posts.num_comments.astype(int)\n",
    "# DONE:make sure link_id and post id can be connected\n",
    "comms = comms[comms.score >=1]"
   ]
  },
  {
   "cell_type": "code",
   "execution_count": 20,
   "metadata": {},
   "outputs": [],
   "source": [
    "from collections import Counter\n",
    "# negative karma can be a indicator? filter out by setting the lower thershold\n",
    "# Counter(comms.score)"
   ]
  },
  {
   "cell_type": "code",
   "execution_count": 21,
   "metadata": {},
   "outputs": [
    {
     "data": {
      "text/plain": [
       "Text(0.5, 1.0, 'Distribution of karma -- reddit')"
      ]
     },
     "execution_count": 21,
     "metadata": {},
     "output_type": "execute_result"
    },
    {
     "data": {
      "image/png": "[encoded data removed]",
      "text/plain": [
       "<Figure size 720x360 with 1 Axes>"
      ]
     },
     "metadata": {},
     "output_type": "display_data"
    }
   ],
   "source": [
    "sns.set(style='whitegrid', palette=\"deep\", font_scale=1.1, rc={\"figure.figsize\": [10, 5]})\n",
    "sns.distplot(\n",
    "    posts['score'], norm_hist=False, kde=False, bins=20, hist_kws={\"alpha\": 0.8}, color= 'blue', \n",
    "    label = 'r/posts',\n",
    ").set(xlabel='Review_Length', ylabel='Count');\n",
    "\n",
    "sns.distplot(\n",
    "    posts['num_comments'], norm_hist=False, kde=False, bins=20, hist_kws={\"alpha\": 0.8}, color= 'red', \n",
    "    label = 'num_comments/post',\n",
    ").set(xlabel='Review_Length', ylabel='Count');\n",
    "\n",
    "\n",
    "sns.distplot(\n",
    "    comms['score'], norm_hist=False, kde=False, bins=20, hist_kws={\"alpha\": 0.8}, color='green',\n",
    "    label='r/comms',\n",
    ").set(xlabel='Review_Length', ylabel='Count');\n",
    "\n",
    "plt.legend()\n",
    "plt.xlim(-1000, 4000)\n",
    "plt.title('Distribution of karma -- reddit')"
   ]
  },
  {
   "cell_type": "code",
   "execution_count": 22,
   "metadata": {},
   "outputs": [],
   "source": [
    "posts.to_csv(fpath('r_postsEDA.csv'), index=False)\n",
    "comms.to_csv(fpath('r_commsEDA.csv'), index=False)"
   ]
  },
  {
   "cell_type": "markdown",
   "metadata": {},
   "source": [
    "## Next Step:\n",
    "- Clean - Vader - generate model vector - modeling - tuning - validation  \n"
   ]
  },
  {
   "cell_type": "code",
   "execution_count": null,
   "metadata": {},
   "outputs": [],
   "source": []
  }
 ],
 "metadata": {
  "kernelspec": {
   "display_name": "Python 3",
   "language": "python",
   "name": "python3"
  },
  "language_info": {
   "codemirror_mode": {
    "name": "ipython",
    "version": 3
   },
   "file_extension": ".py",
   "mimetype": "text/x-python",
   "name": "python",
   "nbconvert_exporter": "python",
   "pygments_lexer": "ipython3",
   "version": "3.7.3"
  }
 },
 "nbformat": 4,
 "nbformat_minor": 2
}
